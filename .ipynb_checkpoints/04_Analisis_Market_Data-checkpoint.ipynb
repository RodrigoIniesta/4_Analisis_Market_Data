{
 "cells": [
  {
   "cell_type": "markdown",
   "metadata": {},
   "source": [
    "# Analisis de datos de mercado"
   ]
  },
  {
   "cell_type": "markdown",
   "metadata": {},
   "source": [
    "1. Descargar datos de mercado\n",
    "2. Distribuciones y teste de normalidad en datos reales\n",
    "\n",
    "Go to yahoo finance and search for some RICs for example\n",
    "USD/MXN\n",
    "ESTX 50\n",
    "And then chose Historical Data and download some series that you like it can be in .csv\n",
    "\n",
    "We are using the same code as the last lesson en we are changing the simulated vector for one of the downloaded in the last step\n"
   ]
  },
  {
   "cell_type": "code",
   "execution_count": 1,
   "metadata": {},
   "outputs": [
    {
     "name": "stderr",
     "output_type": "stream",
     "text": [
      "<ipython-input-1-865dcb142abb>:38: SettingWithCopyWarning: \n",
      "A value is trying to be set on a copy of a slice from a DataFrame\n",
      "\n",
      "See the caveats in the documentation: https://pandas.pydata.org/pandas-docs/stable/user_guide/indexing.html#returning-a-view-versus-a-copy\n",
      "  t['close'][i]=t['close'][i-1]\n"
     ]
    },
    {
     "name": "stdout",
     "output_type": "stream",
     "text": [
      "kurtosis is 6.632728869028494\n",
      "skew is 0.015571666303047346\n",
      "Jarque-Bera statistic is 2350.0161535642906\n",
      "p-value is :0.0\n",
      "is normal False\n"
     ]
    },
    {
     "data": {
      "image/png": "[encoded data removed]",
      "text/plain": [
       "<Figure size 432x288 with 1 Axes>"
      ]
     },
     "metadata": {
      "needs_background": "light"
     },
     "output_type": "display_data"
    }
   ],
   "source": [
    "# -*- coding: utf-8 -*-\n",
    "\"\"\"\n",
    "Created on Tue Mar  2 23:56:40 2021\n",
    "\n",
    "@author: MRDV\n",
    "\"\"\"\n",
    "\n",
    "import pandas as pd\n",
    "import numpy as np\n",
    "import matplotlib as mpl\n",
    "import matplotlib.pyplot as plt\n",
    "import scipy\n",
    "import importlib\n",
    "from scipy.stats import skew,kurtosis,chi2\n",
    "\n",
    "\n",
    "\n",
    "#### get market data ####\n",
    "file='BBVA.MC'\n",
    "#file='^VIX'\n",
    "#file='MXN=X'\n",
    "path = 'C:\\\\Users\\\\rodrigo\\\\Documents\\\\Finanzas Cuantitativas con Python\\\\4_Analisis_Market_Data\\\\'+file+'.csv'\n",
    "raw_data = pd.read_csv(path)\n",
    "#x = raw_data['Close'] #Formato Series (indice mas valores)\n",
    "x = raw_data['Close'].values #Formato arreglo de valores (solo valores)\n",
    "#data_lenght=len(x) #obtener la longitud del vectos = cantidad de datos\n",
    "data_lenght=raw_data.shape [0] #longitud desde las caracteristicas del arreglo\n",
    "\n",
    "###Create returns of the series in another file###\n",
    "t = pd.DataFrame()\n",
    "#t['date']=raw_data['Date']\n",
    "#type(t['date'][0]) #checking the data type\n",
    "t['date'] = pd.to_datetime(raw_data['Date'],dayfirst=True) #convert the data type to date instead of string\n",
    "t['close'] = raw_data['Close']\n",
    "t.sort_values(by='date',ascending = True)\n",
    "for i in range(data_lenght-1):\n",
    "    if pd.isna(t['close'][i]): #Check if the data is nan y fill it withe last one\n",
    "        t['close'][i]=t['close'][i-1]\n",
    "t['close_shift_1'] = t['close'].shift(1) #create a column with the shifted data by row\n",
    "t['return']=t['close']/t['close_shift_1']-1 \n",
    "t=t.dropna() #erase row that have nan\n",
    "t=t.reset_index(drop=True) #to reste the index of the table as we erase some lines\n",
    "x=t['return'].values\n",
    "\n",
    "##JarqueVera###\n",
    "x_variance=np.var(x) \n",
    "x_skew = skew(x)\n",
    "x_kurtosis = kurtosis(x) #Esta Kurtosis ya esta en exceso (K-3)\n",
    "x_jarque_bera = data_lenght/6*(x_skew**2+1/4*x_kurtosis**2)\n",
    "p_value = 1 - chi2.cdf(x_jarque_bera,df=2)\n",
    "x_is_normal = (p_value>0.05)  #para revisar si el p_value es mayor 1-.95\n",
    "\n",
    "#jb_list = [] #create a list\n",
    "#jb_list.append(x_jarque_bera) #Para ir apilando los resultados correr varias veces\n",
    "x_desc = 'market data ' +  file\n",
    "print('kurtosis is ' + str(x_kurtosis)) \n",
    "print('skew is ' + str(x_skew))\n",
    "print('Jarque-Bera statistic is ' + str(x_jarque_bera))\n",
    "print('p-value is :' + str(p_value))\n",
    "print('is normal ' + str(x_is_normal))\n",
    "#plot histograms (run all at time)\n",
    "plt.figure()\n",
    "plt.hist(x,bins=100)\n",
    "plt.title(x_desc)\n",
    "plt.show()"
   ]
  },
  {
   "cell_type": "markdown",
   "metadata": {},
   "source": [
    "In all the cases the returns were not normal"
   ]
  },
  {
   "cell_type": "code",
   "execution_count": null,
   "metadata": {},
   "outputs": [],
   "source": []
  }
 ],
 "metadata": {
  "kernelspec": {
   "display_name": "Python 3",
   "language": "python",
   "name": "python3"
  },
  "language_info": {
   "codemirror_mode": {
    "name": "ipython",
    "version": 3
   },
   "file_extension": ".py",
   "mimetype": "text/x-python",
   "name": "python",
   "nbconvert_exporter": "python",
   "pygments_lexer": "ipython3",
   "version": "3.8.5"
  }
 },
 "nbformat": 4,
 "nbformat_minor": 4
}
