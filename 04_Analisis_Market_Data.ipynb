{
 "cells": [
  {
   "cell_type": "markdown",
   "metadata": {},
   "source": [
    "# Jarque-Bera test to check normality"
   ]
  },
  {
   "cell_type": "markdown",
   "metadata": {},
   "source": [
    "1. Jarque-Bera test\n",
    "\n",
    "Jarque-Bera test is a goodnes-of-fit test of whether sample data have the skewness and kurtosis matching a normal distribution. The test is always nonnegative. If it is far fron zero, it signal the data do not have a normal distribution. \n",
    "The test statistic JB is defined as\n",
    "\n",
    "$$JB=\\frac{n}{6} \\left( S^2+\\frac{1}{4}(K-3)^2 \\right)$$\n",
    "\n",
    "Where **n** is the number of observations and **S** is sample skewnees and **K** is the sample kurtosis\n",
    "$$S=\\frac{\\hat{\\mu}_3}{\\hat{\\sigma}^3} = \\frac{\\frac{1}{n}\\sum_{i=1}^{n}(x_i-\\bar{x})^3 }{\\left(\\frac{1}{n}\\sum(x_i-\\bar{x})^2 \\right)^{\\frac{3}{2}}}$$\n",
    "$$K=\\frac{\\hat{\\mu}_4}{\\hat{\\sigma}^4} = \\frac{\\frac{1}{n}\\sum(x_i-\\bar{x})^4 }{\\left(\\frac{1}{n}\\sum(x_i-\\bar{x})^2 \\right)^{2}}$$\n",
    "\n",
    "If the data comes from a normal distribution, JB statistic asymptotically has a chi-squarted distribution with two degrees of freedom, it is used to test that the data come from a normal distribution. Samples from a normal distributions have an expected S=0 and K-3=0 (for a normal standard). The null hipotesis is skewness and exces if kurtosis equals 0 (S=0,K-3=0)\n",
    "\n",
    "\n",
    "2. p-Value\n",
    "\n",
    "In null-hypothesis significance testing, the p-value is the probability of obtaining test results at least as extreme as the result actually observed, under the assumption that the null hypotesis is correct. A very small p-value means that such an extreme observed outcome would be very unlikely under the null hypothesis.\n",
    "\n",
    "**Definition**\n",
    "Consider an observed test-statisctic $t$ from unknown distribution $T$. Then the p-value $p$ is whart the prior probability would be of observing a test-statistic value at least as \"extreme\" as $t$ if the null hypothesis $H_0$. \n",
    "That is:\n",
    "\n",
    "$p=Pr(T\\geq t | H_0) $ for one side right-tail test statistic distribution \n",
    "\n",
    "$p=Pr(T\\leq t | H_0) $ for one side left-tail test statistic distribution \n",
    "\n",
    "$p=Pr(|T|\\geq |t| | H_0) $ for two side distribution symetric about zero\n",
    "\n",
    "Then we check the probability $p$ obtained with the statistic $t$ and if it less than a given confidence level $\\alpha (0.05=1-.95) $ we reject the hypotesis. If pvalue is greater than $\\alpha (0.05)$ we cannot conclude that the distribution follow $T$ but at least we cannot reject the hypotesis (is statistical significative)\n",
    "\n",
    "3. ¿que hacer cuando una distribucion de normalidad falla su test de normalidad?\n",
    "\n"
   ]
  },
  {
   "cell_type": "code",
   "execution_count": 2,
   "metadata": {},
   "outputs": [
    {
     "name": "stdout",
     "output_type": "stream",
     "text": [
      "kurtosis is 0.0010043871438565333\n",
      "skew is 0.00026020105225360563\n",
      "Jarque-Bera statistic is 0.053317161879992456\n",
      "p-value is :0.9736936223418066\n",
      "is normal True(at 0.05)\n"
     ]
    },
    {
     "data": {
      "image/png": "[encoded data removed]",
      "text/plain": [
       "<Figure size 432x288 with 1 Axes>"
      ]
     },
     "metadata": {
      "needs_background": "light"
     },
     "output_type": "display_data"
    }
   ],
   "source": [
    "# -*- coding: utf-8 -*-\n",
    "\"\"\"\n",
    "Created on Tue Mar  2 23:56:40 2021\n",
    "\n",
    "@author: MRDV\n",
    "\"\"\"\n",
    "\n",
    "import pandas as pd\n",
    "import numpy as np\n",
    "import matplotlib as mpl\n",
    "import matplotlib.pyplot as plt\n",
    "import scipy\n",
    "import importlib\n",
    "from scipy.stats import skew,kurtosis,chi2\n",
    "\n",
    "#print(\"First code\")\n",
    "\n",
    "#simulating random variables\n",
    "nb_sims=10**6\n",
    "df=5\n",
    "lam=2\n",
    "dist_name= 'normal'\n",
    "dist_type = 'sim RV'\n",
    "\n",
    "if dist_name == 'normal':\n",
    "    x=np.random.standard_normal(nb_sims)\n",
    "    x_desc= dist_type + ' ' + dist_name\n",
    "elif dist_name == 'exponential':\n",
    "    x=np.random.exponential(lam,nb_sims)\n",
    "    x_desc= dist_type + ' ' + dist_name\n",
    "elif dist_name == 'uniform':\n",
    "    x=np.random.uniform(0,2,nb_sims)\n",
    "    x_desc= dist_type + ' ' + dist_name\n",
    "elif dist_name == 'student':\n",
    "    x=np.random.standard_t(df,nb_sims)\n",
    "    x_desc= dist_type + ' ' + dist_name+' | df='+str(df) \n",
    "elif dist_name == 'chi-squared':\n",
    "    x=np.random.standard_t(df,nb_sims)\n",
    "    x_desc= dist_type + ' ' + dist_name+' | df='+str(df)\n",
    "\n",
    "'''\n",
    "Todays goal - Create Jarque - Bera normality test\n",
    "'''\n",
    "x_variance=np.var(x)\n",
    "x_skew = skew(x)\n",
    "x_kurtosis = kurtosis(x) #Esta Kurtosis ya esta en exceso (K-3)\n",
    "x_jarque_bera = nb_sims/6*(x_skew**2+1/4*x_kurtosis**2)\n",
    "p_value = 1 - chi2.cdf(x_jarque_bera,df=2)\n",
    "x_is_normal = (p_value>0.05)  #para revisar si el p_value es mayor 1-.95\n",
    "\n",
    "#jb_list = [] #create a list\n",
    "#jb_list.append(x_jarque_bera) #Para ir apilando los resultados correr varias veces\n",
    "\n",
    "print('kurtosis is ' + str(x_kurtosis)) \n",
    "print('skew is ' + str(x_skew))\n",
    "print('Jarque-Bera statistic is ' + str(x_jarque_bera))\n",
    "print('p-value is :' + str(p_value))\n",
    "print('is normal ' + str(x_is_normal))\n",
    "#plot histograms (run all at time)\n",
    "plt.figure()\n",
    "plt.hist(x,bins=100)\n",
    "plt.title(x_desc)\n",
    "plt.show()"
   ]
  },
  {
   "cell_type": "code",
   "execution_count": null,
   "metadata": {},
   "outputs": [],
   "source": []
  }
 ],
 "metadata": {
  "kernelspec": {
   "display_name": "Python 3",
   "language": "python",
   "name": "python3"
  },
  "language_info": {
   "codemirror_mode": {
    "name": "ipython",
    "version": 3
   },
   "file_extension": ".py",
   "mimetype": "text/x-python",
   "name": "python",
   "nbconvert_exporter": "python",
   "pygments_lexer": "ipython3",
   "version": "3.8.5"
  }
 },
 "nbformat": 4,
 "nbformat_minor": 4
}
